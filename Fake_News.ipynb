{
  "nbformat": 4,
  "nbformat_minor": 0,
  "metadata": {
    "colab": {
      "name": "Fake News",
      "provenance": []
    },
    "kernelspec": {
      "name": "python3",
      "display_name": "Python 3"
    }
  },
  "cells": [
    {
      "cell_type": "markdown",
      "metadata": {
        "id": "WUXoGSk9K4lT",
        "colab_type": "text"
      },
      "source": [
        "#**Fake news detection**\n",
        "\n",
        "This notebook shows some ways to use NLP in processing data to differentiate between real and fake news.\n",
        "\n",
        "The notebook is divided into the following parts:\n",
        "\n",
        "1.Mounting the data from google drive\n",
        "\n",
        "2.Converting the data from json to csv format\n",
        "\n",
        "3.Data Preprocessing\n",
        ">3.1."
      ]
    },
    {
      "cell_type": "markdown",
      "metadata": {
        "id": "ZJYJfIdzLskq",
        "colab_type": "text"
      },
      "source": [
        "Accessing the data from Google Drive"
      ]
    },
    {
      "cell_type": "code",
      "metadata": {
        "id": "dwPGDagHK1jW",
        "colab_type": "code",
        "colab": {
          "base_uri": "https://localhost:8080/",
          "height": 122
        },
        "outputId": "2b5b5e4b-cb02-4191-f184-28e96eb58b62"
      },
      "source": [
        "from google.colab import drive\n",
        "drive.mount('/content/drive')"
      ],
      "execution_count": 2,
      "outputs": [
        {
          "output_type": "stream",
          "text": [
            "Go to this URL in a browser: https://accounts.google.com/o/oauth2/auth?client_id=947318989803-6bn6qk8qdgf4n4g3pfee6491hc0brc4i.apps.googleusercontent.com&redirect_uri=urn%3aietf%3awg%3aoauth%3a2.0%3aoob&response_type=code&scope=email%20https%3a%2f%2fwww.googleapis.com%2fauth%2fdocs.test%20https%3a%2f%2fwww.googleapis.com%2fauth%2fdrive%20https%3a%2f%2fwww.googleapis.com%2fauth%2fdrive.photos.readonly%20https%3a%2f%2fwww.googleapis.com%2fauth%2fpeopleapi.readonly\n",
            "\n",
            "Enter your authorization code:\n",
            "··········\n",
            "Mounted at /content/drive\n"
          ],
          "name": "stdout"
        }
      ]
    },
    {
      "cell_type": "code",
      "metadata": {
        "id": "kXiz6GlrbEU6",
        "colab_type": "code",
        "colab": {
          "base_uri": "https://localhost:8080/",
          "height": 85
        },
        "outputId": "8f6febf6-46c0-40ed-a8bc-96a14866376c"
      },
      "source": [
        "from sklearn import model_selection, preprocessing, linear_model, naive_bayes, metrics, svm\n",
        "from sklearn.feature_extraction.text import TfidfVectorizer, CountVectorizer\n",
        "from sklearn import decomposition, ensemble\n",
        "\n",
        "import pandas, xgboost, numpy, textblob, string\n",
        "from keras.preprocessing import text, sequence\n",
        "from keras import layers, models, optimizers\n",
        "import seaborn as sns\n",
        "from collections import Counter\n",
        "import pandas as pd\n",
        "import matplotlib.pyplot as plt\n",
        "from nltk.corpus import stopwords\n",
        "import nltk\n",
        "nltk.download(\"stopwords\")\n",
        "nltk.download('wordnet')\n",
        "from sklearn.metrics import accuracy_score\n",
        "from sklearn.feature_extraction.text import CountVectorizer\n",
        "from sklearn.naive_bayes import MultinomialNB\n",
        "from sklearn.naive_bayes import GaussianNB\n",
        "from sklearn.model_selection import cross_validate\n",
        "from sklearn.metrics import roc_auc_score\n",
        "from sklearn.model_selection import cross_val_predict, cross_validate\n",
        "from sklearn.feature_extraction.text import TfidfTransformer\n",
        "from sklearn.linear_model import LogisticRegression\n",
        "from sklearn.linear_model import LogisticRegression\n",
        "from sklearn.metrics import confusion_matrix\n",
        "from xgboost import XGBClassifier\n",
        "from wordcloud import WordCloud, STOPWORDS, ImageColorGenerator"
      ],
      "execution_count": 75,
      "outputs": [
        {
          "output_type": "stream",
          "text": [
            "[nltk_data] Downloading package stopwords to /root/nltk_data...\n",
            "[nltk_data]   Package stopwords is already up-to-date!\n",
            "[nltk_data] Downloading package wordnet to /root/nltk_data...\n",
            "[nltk_data]   Package wordnet is already up-to-date!\n"
          ],
          "name": "stdout"
        }
      ]
    },
    {
      "cell_type": "markdown",
      "metadata": {
        "id": "WxOj58V_MNSY",
        "colab_type": "text"
      },
      "source": [
        "The user google drive has been successfully mounted. The dataset for fake news detection is present in the google drive under the name fake_news.json.\n",
        "\n",
        "The next step is to convert the data from json to csv format. For this a library is needed. This library is knows as [**Pandas**](https://en.wikipedia.org/wiki/Pandas_(software)) and it offers data structures and operations for manipulating numerical tables and time series.\n",
        "\n",
        "Next is reading the data and naming it as fake_news"
      ]
    },
    {
      "cell_type": "code",
      "metadata": {
        "id": "TFfNGzwSMYBS",
        "colab_type": "code",
        "colab": {}
      },
      "source": [
        "import pandas as pd\n",
        "\n",
        "df = pd.read_json('/content/drive/My Drive/fake_news.json', lines=True).to_csv(\"/content/drive/My Drive/fake_news.csv\")\n",
        "fake_news = pd.read_csv('/content/drive/My Drive/fake_news.csv')"
      ],
      "execution_count": 29,
      "outputs": []
    },
    {
      "cell_type": "markdown",
      "metadata": {
        "id": "DomubhSbQBkA",
        "colab_type": "text"
      },
      "source": [
        "Going through the dataset given\n",
        "\n",
        "The command **.head()** shows the first five rows of the dataset. "
      ]
    },
    {
      "cell_type": "code",
      "metadata": {
        "id": "NWbPoTpHQJC-",
        "colab_type": "code",
        "colab": {
          "base_uri": "https://localhost:8080/",
          "height": 204
        },
        "outputId": "443acc3b-9eac-481d-b4dd-b34dcc12104b"
      },
      "source": [
        "fake_news.head()"
      ],
      "execution_count": 30,
      "outputs": [
        {
          "output_type": "execute_result",
          "data": {
            "text/html": [
              "<div>\n",
              "<style scoped>\n",
              "    .dataframe tbody tr th:only-of-type {\n",
              "        vertical-align: middle;\n",
              "    }\n",
              "\n",
              "    .dataframe tbody tr th {\n",
              "        vertical-align: top;\n",
              "    }\n",
              "\n",
              "    .dataframe thead th {\n",
              "        text-align: right;\n",
              "    }\n",
              "</style>\n",
              "<table border=\"1\" class=\"dataframe\">\n",
              "  <thead>\n",
              "    <tr style=\"text-align: right;\">\n",
              "      <th></th>\n",
              "      <th>Unnamed: 0</th>\n",
              "      <th>is_sarcastic</th>\n",
              "      <th>headline</th>\n",
              "      <th>article_link</th>\n",
              "    </tr>\n",
              "  </thead>\n",
              "  <tbody>\n",
              "    <tr>\n",
              "      <th>0</th>\n",
              "      <td>0</td>\n",
              "      <td>1</td>\n",
              "      <td>thirtysomething scientists unveil doomsday clo...</td>\n",
              "      <td>https://www.theonion.com/thirtysomething-scien...</td>\n",
              "    </tr>\n",
              "    <tr>\n",
              "      <th>1</th>\n",
              "      <td>1</td>\n",
              "      <td>0</td>\n",
              "      <td>dem rep. totally nails why congress is falling...</td>\n",
              "      <td>https://www.huffingtonpost.com/entry/donna-edw...</td>\n",
              "    </tr>\n",
              "    <tr>\n",
              "      <th>2</th>\n",
              "      <td>2</td>\n",
              "      <td>0</td>\n",
              "      <td>eat your veggies: 9 deliciously different recipes</td>\n",
              "      <td>https://www.huffingtonpost.com/entry/eat-your-...</td>\n",
              "    </tr>\n",
              "    <tr>\n",
              "      <th>3</th>\n",
              "      <td>3</td>\n",
              "      <td>1</td>\n",
              "      <td>inclement weather prevents liar from getting t...</td>\n",
              "      <td>https://local.theonion.com/inclement-weather-p...</td>\n",
              "    </tr>\n",
              "    <tr>\n",
              "      <th>4</th>\n",
              "      <td>4</td>\n",
              "      <td>1</td>\n",
              "      <td>mother comes pretty close to using word 'strea...</td>\n",
              "      <td>https://www.theonion.com/mother-comes-pretty-c...</td>\n",
              "    </tr>\n",
              "  </tbody>\n",
              "</table>\n",
              "</div>"
            ],
            "text/plain": [
              "   Unnamed: 0  ...                                       article_link\n",
              "0           0  ...  https://www.theonion.com/thirtysomething-scien...\n",
              "1           1  ...  https://www.huffingtonpost.com/entry/donna-edw...\n",
              "2           2  ...  https://www.huffingtonpost.com/entry/eat-your-...\n",
              "3           3  ...  https://local.theonion.com/inclement-weather-p...\n",
              "4           4  ...  https://www.theonion.com/mother-comes-pretty-c...\n",
              "\n",
              "[5 rows x 4 columns]"
            ]
          },
          "metadata": {
            "tags": []
          },
          "execution_count": 30
        }
      ]
    },
    {
      "cell_type": "markdown",
      "metadata": {
        "id": "khT7FOLJQh28",
        "colab_type": "text"
      },
      "source": [
        "The total number values in the dataset can be seeked by **.info()**\n",
        "\n",
        "The dataset has 28619 non-null objects"
      ]
    },
    {
      "cell_type": "code",
      "metadata": {
        "id": "yuQHbSIOQiQF",
        "colab_type": "code",
        "colab": {
          "base_uri": "https://localhost:8080/",
          "height": 204
        },
        "outputId": "f9c9bbd3-0c42-4469-9295-c9dcdf7d7537"
      },
      "source": [
        "fake_news.info()"
      ],
      "execution_count": 31,
      "outputs": [
        {
          "output_type": "stream",
          "text": [
            "<class 'pandas.core.frame.DataFrame'>\n",
            "RangeIndex: 28619 entries, 0 to 28618\n",
            "Data columns (total 4 columns):\n",
            " #   Column        Non-Null Count  Dtype \n",
            "---  ------        --------------  ----- \n",
            " 0   Unnamed: 0    28619 non-null  int64 \n",
            " 1   is_sarcastic  28619 non-null  int64 \n",
            " 2   headline      28619 non-null  object\n",
            " 3   article_link  28619 non-null  object\n",
            "dtypes: int64(2), object(2)\n",
            "memory usage: 894.5+ KB\n"
          ],
          "name": "stdout"
        }
      ]
    },
    {
      "cell_type": "markdown",
      "metadata": {
        "id": "DaYpnsIIRnjV",
        "colab_type": "text"
      },
      "source": [
        "On checking the head of the data, it can be seen that it consists of five columns. \n",
        ">The first is the numbering given on calling the **head** function (whose function is only numbering the row items) .\n",
        "\n",
        ">The second is an unnamed column which functions same as point 1.\n",
        "\n",
        ">The third column **is_sarcastic** gives the verdic whether the given news is sarcastic or not.\n",
        "\n",
        ">The fourth column contains the news headline.\n",
        "\n",
        ">The fifth column contains the article links.\n",
        "\n",
        "The first three columns do not generate any valuable information and are discarded "
      ]
    },
    {
      "cell_type": "code",
      "metadata": {
        "id": "hZplfJGoU5wk",
        "colab_type": "code",
        "colab": {
          "base_uri": "https://localhost:8080/",
          "height": 34
        },
        "outputId": "c971f0cf-04c3-4ef4-a19b-dafc33213d3b"
      },
      "source": [
        "fake_news.columns"
      ],
      "execution_count": 38,
      "outputs": [
        {
          "output_type": "execute_result",
          "data": {
            "text/plain": [
              "Index(['Unnamed: 0', 'is_sarcastic', 'headline'], dtype='object')"
            ]
          },
          "metadata": {
            "tags": []
          },
          "execution_count": 38
        }
      ]
    },
    {
      "cell_type": "code",
      "metadata": {
        "id": "OP-1MSQ3VAQH",
        "colab_type": "code",
        "colab": {}
      },
      "source": [
        "# dropping the unrequired columns\n",
        "fake_news = fake_news.drop(columns=\"article_link\")\n",
        "fake_news = fake_news.drop(columns=\"Unnamed: 0\")\n"
      ],
      "execution_count": null,
      "outputs": []
    },
    {
      "cell_type": "markdown",
      "metadata": {
        "id": "zF0_x6hBZ_TY",
        "colab_type": "text"
      },
      "source": [
        "There are only two columns left **is_sarcastic** and **headline**"
      ]
    },
    {
      "cell_type": "code",
      "metadata": {
        "id": "k3sNOUiwZ_m1",
        "colab_type": "code",
        "colab": {
          "base_uri": "https://localhost:8080/",
          "height": 204
        },
        "outputId": "cb6424bb-b8bb-4c24-8e67-fb698f949a49"
      },
      "source": [
        "fake_news.head()"
      ],
      "execution_count": 41,
      "outputs": [
        {
          "output_type": "execute_result",
          "data": {
            "text/html": [
              "<div>\n",
              "<style scoped>\n",
              "    .dataframe tbody tr th:only-of-type {\n",
              "        vertical-align: middle;\n",
              "    }\n",
              "\n",
              "    .dataframe tbody tr th {\n",
              "        vertical-align: top;\n",
              "    }\n",
              "\n",
              "    .dataframe thead th {\n",
              "        text-align: right;\n",
              "    }\n",
              "</style>\n",
              "<table border=\"1\" class=\"dataframe\">\n",
              "  <thead>\n",
              "    <tr style=\"text-align: right;\">\n",
              "      <th></th>\n",
              "      <th>is_sarcastic</th>\n",
              "      <th>headline</th>\n",
              "    </tr>\n",
              "  </thead>\n",
              "  <tbody>\n",
              "    <tr>\n",
              "      <th>0</th>\n",
              "      <td>1</td>\n",
              "      <td>thirtysomething scientists unveil doomsday clo...</td>\n",
              "    </tr>\n",
              "    <tr>\n",
              "      <th>1</th>\n",
              "      <td>0</td>\n",
              "      <td>dem rep. totally nails why congress is falling...</td>\n",
              "    </tr>\n",
              "    <tr>\n",
              "      <th>2</th>\n",
              "      <td>0</td>\n",
              "      <td>eat your veggies: 9 deliciously different recipes</td>\n",
              "    </tr>\n",
              "    <tr>\n",
              "      <th>3</th>\n",
              "      <td>1</td>\n",
              "      <td>inclement weather prevents liar from getting t...</td>\n",
              "    </tr>\n",
              "    <tr>\n",
              "      <th>4</th>\n",
              "      <td>1</td>\n",
              "      <td>mother comes pretty close to using word 'strea...</td>\n",
              "    </tr>\n",
              "  </tbody>\n",
              "</table>\n",
              "</div>"
            ],
            "text/plain": [
              "   is_sarcastic                                           headline\n",
              "0             1  thirtysomething scientists unveil doomsday clo...\n",
              "1             0  dem rep. totally nails why congress is falling...\n",
              "2             0  eat your veggies: 9 deliciously different recipes\n",
              "3             1  inclement weather prevents liar from getting t...\n",
              "4             1  mother comes pretty close to using word 'strea..."
            ]
          },
          "metadata": {
            "tags": []
          },
          "execution_count": 41
        }
      ]
    },
    {
      "cell_type": "markdown",
      "metadata": {
        "id": "sLXLn8MsaM8H",
        "colab_type": "text"
      },
      "source": [
        "Creating the [**dependent variable**](https://www.pluralsight.com/guides/importing-and-splitting-data-into-dependent-and-independent-features-for-ml)"
      ]
    },
    {
      "cell_type": "code",
      "metadata": {
        "id": "qcE7GGzmaNGr",
        "colab_type": "code",
        "colab": {}
      },
      "source": [
        "dependent_variable = fake_news['is_sarcastic']"
      ],
      "execution_count": 42,
      "outputs": []
    },
    {
      "cell_type": "markdown",
      "metadata": {
        "id": "2E7X2YHkJ1ai",
        "colab_type": "text"
      },
      "source": [
        "The output for each of the three steps are given below:\n",
        "\n",
        ">Finding null value\n",
        "\n",
        ">Splitting the dataset into train,test and valid dataset\n",
        "\n",
        ">The total word count in each row\n"
      ]
    },
    {
      "cell_type": "code",
      "metadata": {
        "id": "fBm6FrsWbMhd",
        "colab_type": "code",
        "colab": {
          "base_uri": "https://localhost:8080/",
          "height": 391
        },
        "outputId": "95df2c25-8dd5-43fb-e047-d689d14f1aaf"
      },
      "source": [
        "# checking null values\n",
        "print(\"\\nchecking null value:\\n\", fake_news.isna().sum())\n",
        "\n",
        "\n",
        "# split the dataset into training and validation datasets \n",
        "trainset_x, validset_x, trainset_y, validset_y = model_selection.train_test_split(fake_news , dependent_variable, test_size=0.25, random_state=0)\n",
        "\n",
        "#number of words\n",
        "trainset_x['word_count'] = trainset_x['headline'].apply(lambda x: len(str(x).split(\" \")))\n",
        "trainset_x[['headline','word_count','is_sarcastic']].head()"
      ],
      "execution_count": 64,
      "outputs": [
        {
          "output_type": "stream",
          "text": [
            "\n",
            "checking null value:\n",
            " is_sarcastic    0\n",
            "headline        0\n",
            "dtype: int64\n"
          ],
          "name": "stdout"
        },
        {
          "output_type": "stream",
          "text": [
            "/usr/local/lib/python3.6/dist-packages/ipykernel_launcher.py:9: SettingWithCopyWarning: \n",
            "A value is trying to be set on a copy of a slice from a DataFrame.\n",
            "Try using .loc[row_indexer,col_indexer] = value instead\n",
            "\n",
            "See the caveats in the documentation: https://pandas.pydata.org/pandas-docs/stable/user_guide/indexing.html#returning-a-view-versus-a-copy\n",
            "  if __name__ == '__main__':\n"
          ],
          "name": "stderr"
        },
        {
          "output_type": "execute_result",
          "data": {
            "text/html": [
              "<div>\n",
              "<style scoped>\n",
              "    .dataframe tbody tr th:only-of-type {\n",
              "        vertical-align: middle;\n",
              "    }\n",
              "\n",
              "    .dataframe tbody tr th {\n",
              "        vertical-align: top;\n",
              "    }\n",
              "\n",
              "    .dataframe thead th {\n",
              "        text-align: right;\n",
              "    }\n",
              "</style>\n",
              "<table border=\"1\" class=\"dataframe\">\n",
              "  <thead>\n",
              "    <tr style=\"text-align: right;\">\n",
              "      <th></th>\n",
              "      <th>headline</th>\n",
              "      <th>word_count</th>\n",
              "      <th>is_sarcastic</th>\n",
              "    </tr>\n",
              "  </thead>\n",
              "  <tbody>\n",
              "    <tr>\n",
              "      <th>15579</th>\n",
              "      <td>kfc urged to stop routine use of antibiotics o...</td>\n",
              "      <td>10</td>\n",
              "      <td>0</td>\n",
              "    </tr>\n",
              "    <tr>\n",
              "      <th>27057</th>\n",
              "      <td>north korea may test-launch missile around don...</td>\n",
              "      <td>12</td>\n",
              "      <td>0</td>\n",
              "    </tr>\n",
              "    <tr>\n",
              "      <th>3311</th>\n",
              "      <td>why exercising your sense of humor is so impor...</td>\n",
              "      <td>9</td>\n",
              "      <td>0</td>\n",
              "    </tr>\n",
              "    <tr>\n",
              "      <th>6482</th>\n",
              "      <td>freezing woman dining outside desperately clut...</td>\n",
              "      <td>10</td>\n",
              "      <td>1</td>\n",
              "    </tr>\n",
              "    <tr>\n",
              "      <th>12944</th>\n",
              "      <td>defiant north korea launches what appears to b...</td>\n",
              "      <td>9</td>\n",
              "      <td>0</td>\n",
              "    </tr>\n",
              "  </tbody>\n",
              "</table>\n",
              "</div>"
            ],
            "text/plain": [
              "                                                headline  ...  is_sarcastic\n",
              "15579  kfc urged to stop routine use of antibiotics o...  ...             0\n",
              "27057  north korea may test-launch missile around don...  ...             0\n",
              "3311   why exercising your sense of humor is so impor...  ...             0\n",
              "6482   freezing woman dining outside desperately clut...  ...             1\n",
              "12944  defiant north korea launches what appears to b...  ...             0\n",
              "\n",
              "[5 rows x 3 columns]"
            ]
          },
          "metadata": {
            "tags": []
          },
          "execution_count": 64
        }
      ]
    },
    {
      "cell_type": "markdown",
      "metadata": {
        "id": "THcVthBhKSeY",
        "colab_type": "text"
      },
      "source": [
        "The **frequency** of words is calculated and most common words are shown"
      ]
    },
    {
      "cell_type": "code",
      "metadata": {
        "id": "Acf81JCdbSt2",
        "colab_type": "code",
        "colab": {
          "base_uri": "https://localhost:8080/",
          "height": 204
        },
        "outputId": "d043cb20-6b5a-40cf-b7ed-c0c6791e098a"
      },
      "source": [
        "#frequency of word before stop words removal\n",
        "freq = Counter(\" \".join(trainset_x[\"headline\"]).split()).most_common(20)\n",
        "#freq.columns('word','frequency')\n",
        "freq1 = pd.DataFrame(freq, columns= ['Words','Frequency'])\n",
        "freq1.head()"
      ],
      "execution_count": 65,
      "outputs": [
        {
          "output_type": "execute_result",
          "data": {
            "text/html": [
              "<div>\n",
              "<style scoped>\n",
              "    .dataframe tbody tr th:only-of-type {\n",
              "        vertical-align: middle;\n",
              "    }\n",
              "\n",
              "    .dataframe tbody tr th {\n",
              "        vertical-align: top;\n",
              "    }\n",
              "\n",
              "    .dataframe thead th {\n",
              "        text-align: right;\n",
              "    }\n",
              "</style>\n",
              "<table border=\"1\" class=\"dataframe\">\n",
              "  <thead>\n",
              "    <tr style=\"text-align: right;\">\n",
              "      <th></th>\n",
              "      <th>Words</th>\n",
              "      <th>Frequency</th>\n",
              "    </tr>\n",
              "  </thead>\n",
              "  <tbody>\n",
              "    <tr>\n",
              "      <th>0</th>\n",
              "      <td>to</td>\n",
              "      <td>6780</td>\n",
              "    </tr>\n",
              "    <tr>\n",
              "      <th>1</th>\n",
              "      <td>of</td>\n",
              "      <td>4680</td>\n",
              "    </tr>\n",
              "    <tr>\n",
              "      <th>2</th>\n",
              "      <td>the</td>\n",
              "      <td>3957</td>\n",
              "    </tr>\n",
              "    <tr>\n",
              "      <th>3</th>\n",
              "      <td>in</td>\n",
              "      <td>3385</td>\n",
              "    </tr>\n",
              "    <tr>\n",
              "      <th>4</th>\n",
              "      <td>for</td>\n",
              "      <td>2675</td>\n",
              "    </tr>\n",
              "  </tbody>\n",
              "</table>\n",
              "</div>"
            ],
            "text/plain": [
              "  Words  Frequency\n",
              "0    to       6780\n",
              "1    of       4680\n",
              "2   the       3957\n",
              "3    in       3385\n",
              "4   for       2675"
            ]
          },
          "metadata": {
            "tags": []
          },
          "execution_count": 65
        }
      ]
    },
    {
      "cell_type": "markdown",
      "metadata": {
        "id": "mQX0p4veKb91",
        "colab_type": "text"
      },
      "source": [
        "A wordcloud is generated."
      ]
    },
    {
      "cell_type": "code",
      "metadata": {
        "id": "2nr1Mhzvbjye",
        "colab_type": "code",
        "colab": {
          "base_uri": "https://localhost:8080/",
          "height": 198
        },
        "outputId": "9507a132-c008-42be-d458-ffe46e8db65a"
      },
      "source": [
        "wordcloud = WordCloud(max_words = 2).generate(' '.join(freq1['Words']))\n",
        "plt.imshow(wordcloud,interpolation = 'bilinear')\n",
        "plt.axis('off')\n",
        "plt.show()"
      ],
      "execution_count": 136,
      "outputs": [
        {
          "output_type": "display_data",
          "data": {
            "image/png": "[encoded data removed]",
            "text/plain": [
              "<Figure size 432x288 with 1 Axes>"
            ]
          },
          "metadata": {
            "tags": []
          }
        }
      ]
    },
    {
      "cell_type": "markdown",
      "metadata": {
        "id": "IiUYzTqgK01t",
        "colab_type": "text"
      },
      "source": [
        "A bar graph is plotted which shows the **frequency** of top 20 words."
      ]
    },
    {
      "cell_type": "code",
      "metadata": {
        "id": "31CzUOB2b0ex",
        "colab_type": "code",
        "colab": {
          "base_uri": "https://localhost:8080/",
          "height": 312
        },
        "outputId": "be09ab95-41f5-4943-e009-f66910074ce7"
      },
      "source": [
        "#visualization\n",
        "# Bar Plot \n",
        "sns.set_style('whitegrid')\n",
        "sns.barplot( x = 'Frequency', y ='Words',data=freq1)\n",
        "plt.title('Frequency of top 20 words')\n"
      ],
      "execution_count": 54,
      "outputs": [
        {
          "output_type": "execute_result",
          "data": {
            "text/plain": [
              "Text(0.5, 1.0, 'Frequency of top 20 words')"
            ]
          },
          "metadata": {
            "tags": []
          },
          "execution_count": 54
        },
        {
          "output_type": "display_data",
          "data": {
            "image/png": "[encoded data removed]",
            "text/plain": [
              "<Figure size 432x288 with 1 Axes>"
            ]
          },
          "metadata": {
            "tags": []
          }
        }
      ]
    },
    {
      "cell_type": "markdown",
      "metadata": {
        "id": "V3MExKj7LA7W",
        "colab_type": "text"
      },
      "source": [
        "Removal of [**stop words**](https://en.wikipedia.org/wiki/Stop_words) ."
      ]
    },
    {
      "cell_type": "code",
      "metadata": {
        "id": "UOwdrblfcfaH",
        "colab_type": "code",
        "colab": {
          "base_uri": "https://localhost:8080/",
          "height": 221
        },
        "outputId": "cb884136-20c8-4c9a-c687-b55c27545fa6"
      },
      "source": [
        "#removing stop words\n",
        "stop = stopwords.words('english')\n",
        "trainset_x['headline'] = trainset_x['headline'].apply(lambda x: \" \".join(x for x in x.split() if x not in stop))\n",
        "trainset_x['headline'].head()"
      ],
      "execution_count": 57,
      "outputs": [
        {
          "output_type": "stream",
          "text": [
            "/usr/local/lib/python3.6/dist-packages/ipykernel_launcher.py:4: SettingWithCopyWarning: \n",
            "A value is trying to be set on a copy of a slice from a DataFrame.\n",
            "Try using .loc[row_indexer,col_indexer] = value instead\n",
            "\n",
            "See the caveats in the documentation: https://pandas.pydata.org/pandas-docs/stable/user_guide/indexing.html#returning-a-view-versus-a-copy\n",
            "  after removing the cwd from sys.path.\n"
          ],
          "name": "stderr"
        },
        {
          "output_type": "execute_result",
          "data": {
            "text/plain": [
              "15579       kfc urged stop routine use antibiotics poultry\n",
              "27057    north korea may test-launch missile around don...\n",
              "3311                      exercising sense humor important\n",
              "6482     freezing woman dining outside desperately clut...\n",
              "12944            defiant north korea launches appears icbm\n",
              "Name: headline, dtype: object"
            ]
          },
          "metadata": {
            "tags": []
          },
          "execution_count": 57
        }
      ]
    },
    {
      "cell_type": "markdown",
      "metadata": {
        "id": "odTTL5fvLNe3",
        "colab_type": "text"
      },
      "source": [
        "The **frequency** of words after removal of stop words is displayed below."
      ]
    },
    {
      "cell_type": "code",
      "metadata": {
        "id": "biPse6Jnc0Xv",
        "colab_type": "code",
        "colab": {
          "base_uri": "https://localhost:8080/",
          "height": 204
        },
        "outputId": "f3b06378-65b1-4f7a-d51f-d2fcb6f67f1d"
      },
      "source": [
        "#freq of words after stop words removal\n",
        "freq = Counter(\" \".join(trainset_x[\"headline\"]).split()).most_common(20)\n",
        "#freq.columns('word','frequency')\n",
        "freq4 = pd.DataFrame(freq, columns= ['Words','Frequency'])\n",
        "freq4.head()"
      ],
      "execution_count": 60,
      "outputs": [
        {
          "output_type": "execute_result",
          "data": {
            "text/html": [
              "<div>\n",
              "<style scoped>\n",
              "    .dataframe tbody tr th:only-of-type {\n",
              "        vertical-align: middle;\n",
              "    }\n",
              "\n",
              "    .dataframe tbody tr th {\n",
              "        vertical-align: top;\n",
              "    }\n",
              "\n",
              "    .dataframe thead th {\n",
              "        text-align: right;\n",
              "    }\n",
              "</style>\n",
              "<table border=\"1\" class=\"dataframe\">\n",
              "  <thead>\n",
              "    <tr style=\"text-align: right;\">\n",
              "      <th></th>\n",
              "      <th>Words</th>\n",
              "      <th>Frequency</th>\n",
              "    </tr>\n",
              "  </thead>\n",
              "  <tbody>\n",
              "    <tr>\n",
              "      <th>0</th>\n",
              "      <td>new</td>\n",
              "      <td>1230</td>\n",
              "    </tr>\n",
              "    <tr>\n",
              "      <th>1</th>\n",
              "      <td>man</td>\n",
              "      <td>1003</td>\n",
              "    </tr>\n",
              "    <tr>\n",
              "      <th>2</th>\n",
              "      <td>trump</td>\n",
              "      <td>972</td>\n",
              "    </tr>\n",
              "    <tr>\n",
              "      <th>3</th>\n",
              "      <td>area</td>\n",
              "      <td>391</td>\n",
              "    </tr>\n",
              "    <tr>\n",
              "      <th>4</th>\n",
              "      <td>one</td>\n",
              "      <td>388</td>\n",
              "    </tr>\n",
              "  </tbody>\n",
              "</table>\n",
              "</div>"
            ],
            "text/plain": [
              "   Words  Frequency\n",
              "0    new       1230\n",
              "1    man       1003\n",
              "2  trump        972\n",
              "3   area        391\n",
              "4    one        388"
            ]
          },
          "metadata": {
            "tags": []
          },
          "execution_count": 60
        }
      ]
    },
    {
      "cell_type": "markdown",
      "metadata": {
        "id": "vGXO5W8vLjBQ",
        "colab_type": "text"
      },
      "source": [
        "A **wordcloud** is generated post removal of stop words."
      ]
    },
    {
      "cell_type": "code",
      "metadata": {
        "id": "JmZby6VWc0vx",
        "colab_type": "code",
        "colab": {
          "base_uri": "https://localhost:8080/",
          "height": 198
        },
        "outputId": "5844f186-aae0-4d7c-9d3b-55a22680eb02"
      },
      "source": [
        "wordcloud = WordCloud(max_words = 20).generate(' '.join(trainset_x['headline']))\n",
        "plt.imshow(wordcloud,interpolation = 'bilinear')\n",
        "plt.axis('off')\n",
        "plt.show()"
      ],
      "execution_count": 62,
      "outputs": [
        {
          "output_type": "display_data",
          "data": {
            "image/png": "[encoded data removed]",
            "text/plain": [
              "<Figure size 432x288 with 1 Axes>"
            ]
          },
          "metadata": {
            "tags": []
          }
        }
      ]
    },
    {
      "cell_type": "markdown",
      "metadata": {
        "id": "O0CUxjLkL2ul",
        "colab_type": "text"
      },
      "source": [
        ">The column **is_sarcastic** and **word_count** is removed as it holds no value.\n",
        "\n",
        ">The column **headline** is converted to lowercase.\n",
        "\n",
        ">**Label Encoding** is processed."
      ]
    },
    {
      "cell_type": "code",
      "metadata": {
        "id": "6vjxA_WXc0yd",
        "colab_type": "code",
        "colab": {}
      },
      "source": [
        "# dropping the 'is_sarcastic\" and \"word _count\" column\n",
        "trainset_x = trainset_x.drop(columns=\"is_sarcastic\")\n",
        "trainset_x = trainset_x.drop(columns=\"word_count\")\n",
        "\n",
        "#lowercase\n",
        "trainset_x['headline'] = trainset_x['headline'].apply(lambda x: \" \".join(x.lower() for x in x.split()))\n",
        "trainset_x['headline'].head()\n",
        "\n",
        "# label encode the target variable \n",
        "encoder = preprocessing.LabelEncoder()\n",
        "trainset_y = encoder.fit_transform(trainset_y)\n",
        "validset_y = encoder.fit_transform(validset_y)\n",
        "\n",
        "\n"
      ],
      "execution_count": 67,
      "outputs": []
    },
    {
      "cell_type": "markdown",
      "metadata": {
        "id": "DyfbBX4RM8vZ",
        "colab_type": "text"
      },
      "source": [
        "Both common and uncommon words do not add value.\n",
        "\n",
        "1.   Uncommon word identification and its removal.\n",
        "2.   Common word identification and its removal.\n",
        "\n"
      ]
    },
    {
      "cell_type": "code",
      "metadata": {
        "id": "MWO7wgibc01A",
        "colab_type": "code",
        "colab": {
          "base_uri": "https://localhost:8080/",
          "height": 119
        },
        "outputId": "c68e54ab-c09c-4aa6-8655-0973805e4637"
      },
      "source": [
        "#uncommon word identification\n",
        "freq = pd.Series(' '.join(trainset_x['headline']).split()).value_counts()[-10:]\n",
        "freq\n",
        "\n",
        "\n",
        "#removal of uncommon words\n",
        "freq = list(freq.index)\n",
        "trainset_x['headline'] = trainset_x['headline'].apply(lambda x: \" \".join(x for x in x.split() if x not in freq))\n",
        "trainset_x['headline'].head()\n",
        "\n",
        "\n",
        "#identification and removal of common words\n",
        "freq = pd.Series(' '.join(trainset_x['headline']).split()).value_counts()[:10]\n",
        "freq\n",
        "\n",
        "#removal of common words\n",
        "freq = list(freq.index)\n",
        "trainset_x['headline'] = trainset_x['headline'].apply(lambda x: \" \".join(x for x in x.split() if x not in freq))\n",
        "trainset_x['headline'].head()\n"
      ],
      "execution_count": 102,
      "outputs": [
        {
          "output_type": "execute_result",
          "data": {
            "text/plain": [
              "15579        kfc urged stop routine use antibiotic poultry\n",
              "27057    north korea may test-launch missile around don...\n",
              "3311          why exercising your sense humor so important\n",
              "6482     freezing dining outside desperately clutching ...\n",
              "12944         defiant north korea launch what appears icbm\n",
              "Name: headline, dtype: object"
            ]
          },
          "metadata": {
            "tags": []
          },
          "execution_count": 102
        }
      ]
    },
    {
      "cell_type": "markdown",
      "metadata": {
        "id": "MfuPmStENrU9",
        "colab_type": "text"
      },
      "source": [
        "**Stemming** and **Lemmatization**\n",
        "\n",
        "The goal of both stemming and lemmatization is to reduce inflectional forms and sometimes derivationally related forms of a word to a common base form. For instance:\n",
        "\n",
        "am, are, is $\\Rightarrow$ be\n",
        "\n",
        "car, cars, car's, cars' $\\Rightarrow$ car"
      ]
    },
    {
      "cell_type": "code",
      "metadata": {
        "id": "bjSyuIL0c05f",
        "colab_type": "code",
        "colab": {
          "base_uri": "https://localhost:8080/",
          "height": 119
        },
        "outputId": "09f113b8-a0b7-44cc-d1d8-1566b867fbdf"
      },
      "source": [
        "#stemming\n",
        "from nltk.stem import PorterStemmer\n",
        "st = PorterStemmer()\n",
        "trainset_x['headline'].apply(lambda x: \" \".join([st.stem(word) for word in x.split()]))\n",
        "\n",
        "\n",
        "#lemma\n",
        "from textblob import Word\n",
        "trainset_x['headline'] = trainset_x['headline'].apply(lambda x: \" \".join([Word(word).lemmatize() for word in x.split()]))\n",
        "trainset_x['headline'].head()\n"
      ],
      "execution_count": 104,
      "outputs": [
        {
          "output_type": "execute_result",
          "data": {
            "text/plain": [
              "15579        kfc urged stop routine use antibiotic poultry\n",
              "27057    north korea may test-launch missile around don...\n",
              "3311          why exercising your sense humor so important\n",
              "6482     freezing dining outside desperately clutching ...\n",
              "12944         defiant north korea launch what appears icbm\n",
              "Name: headline, dtype: object"
            ]
          },
          "metadata": {
            "tags": []
          },
          "execution_count": 104
        }
      ]
    },
    {
      "cell_type": "markdown",
      "metadata": {
        "id": "StH9PNjbT7Cm",
        "colab_type": "text"
      },
      "source": [
        "The porpose of **Count Vectorizer** is to convert a collection of text documents to a matrix of token counts."
      ]
    },
    {
      "cell_type": "code",
      "metadata": {
        "id": "DhaxYp8B87OU",
        "colab_type": "code",
        "colab": {
          "base_uri": "https://localhost:8080/",
          "height": 34
        },
        "outputId": "7a364dc9-cc34-4a9d-e1a7-dda57d588e0b"
      },
      "source": [
        "# create a count vectorizer object \n",
        "count_vect = CountVectorizer(analyzer='word', token_pattern=r'\\w{1,}')\n",
        "count_vect.fit(trainset_x['headline'])\n",
        "text = trainset_x['headline']\n",
        "text2 = validset_x['headline']\n",
        "\n",
        "# transform the training and validation data using count vectorizer object\n",
        "xtrainset_count =  count_vect.transform(text)\n",
        "xvalidset_count =  count_vect.transform(text2)\n",
        "\n",
        "#xtrainset_count= xtrainset_count.transpose()\n",
        "xtrainset_count.shape\n",
        "xvalidset_count.shape"
      ],
      "execution_count": 130,
      "outputs": [
        {
          "output_type": "execute_result",
          "data": {
            "text/plain": [
              "(7155, 21220)"
            ]
          },
          "metadata": {
            "tags": []
          },
          "execution_count": 130
        }
      ]
    },
    {
      "cell_type": "markdown",
      "metadata": {
        "id": "y7kt6iioUaHf",
        "colab_type": "text"
      },
      "source": [
        "Using already trained embedding module helps in better word classification.\n",
        "**Word embedding** is the collective name for a set of language modeling and feature learning techniques in natural language processing (NLP) where words or phrases from the vocabulary are mapped to vectors of real numbers."
      ]
    },
    {
      "cell_type": "code",
      "metadata": {
        "id": "EaL3wMAveSoE",
        "colab_type": "code",
        "colab": {}
      },
      "source": [
        "# use trained embedding module\n",
        "# download module and unzip file\n",
        "import os\n",
        "import urllib.request\n",
        "import zipfile\n",
        "urllib.request.urlretrieve('https://dl.fbaipublicfiles.com/fasttext/vectors-english/wiki-news-300d-1M.vec.zip', 'wiki-news-300d-1M.vec.zip')\n",
        "\n",
        "# unzip files\n",
        "zip_model = zipfile.ZipFile('wiki-news-300d-1M.vec.zip', 'r')\n",
        "zip_model.extractall('./')\n",
        "zip_model.close()\n",
        "\n",
        "# os.listdir()\n",
        "\n",
        "# load the pre-trained word-embedding vectors \n",
        "embeddings_index = {}\n",
        "for i, line in enumerate(open('wiki-news-300d-1M.vec')):\n",
        "    values = line.split()\n",
        "    embeddings_index[values[0]] = numpy.asarray(values[1:], dtype='float32')"
      ],
      "execution_count": 74,
      "outputs": []
    },
    {
      "cell_type": "markdown",
      "metadata": {
        "id": "mGm6w_u6VcCH",
        "colab_type": "text"
      },
      "source": [
        "Creation of tokenizer and convert text to sequence of tokens and pad them to ensure equal length vectors"
      ]
    },
    {
      "cell_type": "code",
      "metadata": {
        "id": "XUsBljCNeSx4",
        "colab_type": "code",
        "colab": {}
      },
      "source": [
        "# create a tokenizer \n",
        "token = text.Tokenizer()\n",
        "token.fit_on_texts(trainset_x['headline'])\n",
        "word_index = token.word_index\n",
        "\n",
        "# convert text to sequence of tokens and pad them to ensure equal length vectors \n",
        "trainset_seq_x = sequence.pad_sequences(token.texts_to_sequences(trainset_x), maxlen=70)\n",
        "validset_seq_x = sequence.pad_sequences(token.texts_to_sequences(validset_x), maxlen=70)"
      ],
      "execution_count": 76,
      "outputs": []
    },
    {
      "cell_type": "markdown",
      "metadata": {
        "id": "DJiXQIEHVltB",
        "colab_type": "text"
      },
      "source": [
        "Create token-embedding mapping"
      ]
    },
    {
      "cell_type": "code",
      "metadata": {
        "id": "FKuMM_49eS5i",
        "colab_type": "code",
        "colab": {}
      },
      "source": [
        "# create token-embedding mapping\n",
        "embedding_matrix = numpy.zeros((len(word_index) + 1, 300))\n",
        "for word, i in word_index.items():\n",
        "    embedding_vector = embeddings_index.get(word)\n",
        "    if embedding_vector is not None:\n",
        "        embedding_matrix[i] = embedding_vector"
      ],
      "execution_count": 77,
      "outputs": []
    },
    {
      "cell_type": "markdown",
      "metadata": {
        "id": "GQo4Yie9Vo49",
        "colab_type": "text"
      },
      "source": [
        "**tf–idf or TFIDF**, short for term frequency–inverse document frequency, is a numerical statistic that is intended to reflect how important a word is to a document in a collection or corpus.\n",
        "\n",
        "Its calculated in three levels:\n",
        "\n",
        ">Word level.\n",
        "\n",
        ">ngram level.\n",
        "\n",
        ">Characters level."
      ]
    },
    {
      "cell_type": "code",
      "metadata": {
        "id": "kqi5dcTNvqtX",
        "colab_type": "code",
        "colab": {
          "base_uri": "https://localhost:8080/",
          "height": 34
        },
        "outputId": "09b976d3-e956-40a8-abf0-3d8a4cdc6943"
      },
      "source": [
        "#TFIDF\n",
        "    \n",
        "    # word level\n",
        "tfidf_vect = TfidfVectorizer(analyzer='word', token_pattern=r'\\w{1,}', max_features=2000)\n",
        "xtrainset_tfidf =  tfidf_vect.fit_transform(trainset_x.headline)\n",
        "xvalidset_tfidf =  tfidf_vect.fit_transform(validset_x.headline)\n",
        "\n",
        "# ngram level tf-idf \n",
        "tfidf_vect_ngram = TfidfVectorizer(analyzer='word', token_pattern=r'\\w{1,}', ngram_range=(2,3), max_features=2000)\n",
        "xtrainset_tfidf_ngram =  tfidf_vect_ngram.fit_transform(trainset_x.headline)\n",
        "xvalidset_tfidf_ngram =  tfidf_vect_ngram.fit_transform(validset_x.headline)\n",
        "\n",
        "# characters level tf-idf\n",
        "tfidf_vect_ngram_chars = TfidfVectorizer(analyzer='char', token_pattern=r'\\w{1,}', ngram_range=(2,3), max_features=5000)\n",
        "xtrainset_tfidf_ngram_chars =  tfidf_vect_ngram_chars.fit_transform(trainset_x.headline) \n",
        "xvalidset_tfidf_ngram_chars =  tfidf_vect_ngram_chars.fit_transform(validset_x.headline) \n",
        "\n",
        "xtrainset_tfidf.shape"
      ],
      "execution_count": 96,
      "outputs": [
        {
          "output_type": "execute_result",
          "data": {
            "text/plain": [
              "(21464, 2000)"
            ]
          },
          "metadata": {
            "tags": []
          },
          "execution_count": 96
        }
      ]
    },
    {
      "cell_type": "markdown",
      "metadata": {
        "id": "cSlhHm1SWVYR",
        "colab_type": "text"
      },
      "source": [
        "Using Naive Bayes on \n",
        "\n",
        "1.   Count Vectors.\n",
        "2.   Word Level TF IDF Vectors.\n",
        "3.   ngram Level TF IDF Vectors.\n",
        "4.   Character Level TF IDF Vectors.\n",
        "\n"
      ]
    },
    {
      "cell_type": "code",
      "metadata": {
        "id": "Pv0duHtivuEQ",
        "colab_type": "code",
        "colab": {
          "base_uri": "https://localhost:8080/",
          "height": 68
        },
        "outputId": "3c77aa62-bcc3-4b2d-dafc-9d41370686ad"
      },
      "source": [
        "#naive bayes\n",
        "# Naive Bayes on Count Vectors\n",
        "navies = MultinomialNB()\n",
        "naviesPredict = navies.fit(xtrainset_count, trainset_y)\n",
        "naviesPredict = navies.predict(xvalidset_count)\n",
        "NavieBayesAccuracy = accuracy_score(validset_y, naviesPredict)\n",
        "print(NavieBayesAccuracy)#54\n",
        "\n",
        "# Naive Bayes on Word Level TF IDF Vectors ,\n",
        "navies = MultinomialNB()\n",
        "naviesPredict = navies.fit(xtrainset_tfidf, trainset_y)\n",
        "naviesPredict = navies.predict(xvalidset_tfidf)\n",
        "NavieBayesAccuracy = accuracy_score(validset_y, naviesPredict)#53.9\n",
        "\n",
        "# Naive Bayes on ngram Level TF IDF Vectors\n",
        "navies = MultinomialNB()\n",
        "naviesPredict = navies.fit(xtrainset_tfidf_ngram, trainset_y)\n",
        "naviesPredict = navies.predict(xvalidset_tfidf_ngram)\n",
        "NavieBayesAccuracy = accuracy_score(validset_y, naviesPredict)\n",
        "print(NavieBayesAccuracy)#50.8\n",
        "\n",
        "# Naive Bayes on character Level TF IDF Vectors\n",
        "navies = MultinomialNB()\n",
        "naviesPredict = navies.fit(xtrainset_tfidf_ngram_chars, trainset_y)\n",
        "naviesPredict = navies.predict(xvalidset_tfidf_ngram_chars)\n",
        "NavieBayesAccuracy = accuracy_score(validset_y, naviesPredict)\n",
        "print(NavieBayesAccuracy)#52.3"
      ],
      "execution_count": 144,
      "outputs": [
        {
          "output_type": "stream",
          "text": [
            "0.8143955276030748\n",
            "0.49853249475890987\n",
            "0.5608665269042628\n"
          ],
          "name": "stdout"
        }
      ]
    },
    {
      "cell_type": "markdown",
      "metadata": {
        "id": "goXvhSuhYDx0",
        "colab_type": "text"
      },
      "source": [
        "Logistic Regression performed on \n",
        "\n",
        "1.   Count Vectors.\n",
        "2.   Word Level TF IDF Vectors.\n",
        "3.   ngram Level TF IDF Vectors.\n",
        "4.   Character Level TF IDF Vectors."
      ]
    },
    {
      "cell_type": "code",
      "metadata": {
        "id": "f7KlRg2_vuJB",
        "colab_type": "code",
        "colab": {
          "base_uri": "https://localhost:8080/",
          "height": 221
        },
        "outputId": "2d6027ac-556b-4767-897f-87c4586447f9"
      },
      "source": [
        "#Logistic Regression\n",
        "LogisticReg = LogisticRegression()\n",
        "# Linear Classifier on Count Vectors\n",
        "accuracy = train_model(linear_model.LogisticRegression(), xtrainset_count, trainset_y, xvalidset_count)\n",
        "print( \"LR, Count Vectors: \", accuracy)#54\n",
        "\n",
        "# Linear Classifier on Word Level TF IDF Vectors\n",
        "LogisticReg = LogisticRegression()\n",
        "accuracy = train_model(linear_model.LogisticRegression(), xtrainset_tfidf, trainset_y, xvalidset_tfidf)\n",
        "print( \"LR, WordLevel TF-IDF: \", accuracy)#49.1\n",
        "\n",
        "# Linear Classifier on Ngram Level TF IDF Vectors\n",
        "LogisticReg = LogisticRegression()\n",
        "accuracy = train_model(linear_model.LogisticRegression(), xtrainset_tfidf_ngram, trainset_y, xvalidset_tfidf_ngram)\n",
        "print (\"LR, N-Gram Vectors: \", accuracy)#53.6\n",
        "\n",
        "# Linear Classifier on Character Level TF IDF Vectors\n",
        "LogisticReg = LogisticRegression()\n",
        "accuracy = train_model(linear_model.LogisticRegression(), xtrainset_tfidf_ngram_chars, trainset_y, xvalidset_tfidf_ngram_chars)\n",
        "print (\"LR, CharLevel Vectors: \", accuracy)#55.2"
      ],
      "execution_count": 132,
      "outputs": [
        {
          "output_type": "stream",
          "text": [
            "/usr/local/lib/python3.6/dist-packages/sklearn/linear_model/_logistic.py:940: ConvergenceWarning: lbfgs failed to converge (status=1):\n",
            "STOP: TOTAL NO. of ITERATIONS REACHED LIMIT.\n",
            "\n",
            "Increase the number of iterations (max_iter) or scale the data as shown in:\n",
            "    https://scikit-learn.org/stable/modules/preprocessing.html\n",
            "Please also refer to the documentation for alternative solver options:\n",
            "    https://scikit-learn.org/stable/modules/linear_model.html#logistic-regression\n",
            "  extra_warning_msg=_LOGISTIC_SOLVER_CONVERGENCE_MSG)\n"
          ],
          "name": "stderr"
        },
        {
          "output_type": "stream",
          "text": [
            "LR, Count Vectors:  0.8005590496156534\n",
            "LR, WordLevel TF-IDF:  0.5577917540181692\n",
            "LR, N-Gram Vectors:  0.5045422781271838\n",
            "LR, CharLevel Vectors:  0.5383647798742138\n"
          ],
          "name": "stdout"
        }
      ]
    },
    {
      "cell_type": "code",
      "metadata": {
        "id": "LyYcOIcPvuMD",
        "colab_type": "code",
        "colab": {
          "base_uri": "https://localhost:8080/",
          "height": 34
        },
        "outputId": "019c4445-54a8-425b-fb0d-ed464db415c8"
      },
      "source": [
        "LogisticReg = LogisticRegression()\n",
        "LogisticPredict = LogisticReg.fit(xtrainset_tfidf_ngram_chars,trainset_y)\n",
        "LogitRegression = LogisticPredict.predict(xvalidset_tfidf_ngram_chars)\n",
        "LogitRegressionPredict = accuracy_score(validset_y,LogitRegression)\n",
        "print(LogitRegressionPredict)\n"
      ],
      "execution_count": 133,
      "outputs": [
        {
          "output_type": "stream",
          "text": [
            "0.5383647798742138\n"
          ],
          "name": "stdout"
        }
      ]
    },
    {
      "cell_type": "markdown",
      "metadata": {
        "id": "MFn6H2ZgYhAz",
        "colab_type": "text"
      },
      "source": [
        "Random Forest classifier on \n",
        "\n",
        "1.   Count Vectors.\n",
        "2.   Word Level TF IDF Vectors."
      ]
    },
    {
      "cell_type": "code",
      "metadata": {
        "id": "u_A12FwhvuNy",
        "colab_type": "code",
        "colab": {
          "base_uri": "https://localhost:8080/",
          "height": 51
        },
        "outputId": "fe98499f-b88a-4bd6-f3af-18ae7d777d5a"
      },
      "source": [
        "# RF on Count Vectors\n",
        "accuracy1 = train_model(ensemble.RandomForestClassifier(), xtrainset_count, trainset_y, xvalidset_count)\n",
        "print (\"RF, Count Vectors: \", accuracy)#48.9\n",
        "\n",
        "# RF on Word Level TF IDF Vectors\n",
        "accuracy = train_model(ensemble.RandomForestClassifier(), xtrainset_tfidf, trainset_y, xvalidset_tfidf)\n",
        "print (\"RF, WordLevel TF-IDF: \", accuracy)#48.6"
      ],
      "execution_count": 134,
      "outputs": [
        {
          "output_type": "stream",
          "text": [
            "RF, Count Vectors:  0.5383647798742138\n",
            "RF, WordLevel TF-IDF:  0.5516422082459819\n"
          ],
          "name": "stdout"
        }
      ]
    },
    {
      "cell_type": "markdown",
      "metadata": {
        "id": "D1glZ0fYYmyi",
        "colab_type": "text"
      },
      "source": [
        "Xgboost on \n",
        "\n",
        "1.   Count Vectors.\n",
        "2.   Word Level TF IDF Vectors.\n",
        "3.   ngram Level TF IDF Vectors.\n"
      ]
    },
    {
      "cell_type": "code",
      "metadata": {
        "id": "IBdqUKnUxPLO",
        "colab_type": "code",
        "colab": {
          "base_uri": "https://localhost:8080/",
          "height": 68
        },
        "outputId": "f3c1d8ba-a674-4a97-dea9-bdb77e1359cc"
      },
      "source": [
        "# Xgboost.\n",
        "Xgboost = XGBClassifier()\n",
        "XGboostTest = Xgboost.fit(xtrainset_tfidf, trainset_y)\n",
        "XGboostPredict = Xgboost.predict(xvalidset_tfidf)\n",
        "XAccuracy = accuracy_score(validset_y, XGboostPredict)\n",
        "print(XAccuracy)\n",
        "#52.9\n",
        "\n",
        "# Xgboost.\n",
        "Xgboost = XGBClassifier()\n",
        "XGboostTest = Xgboost.fit(xtrainset_tfidf_ngram , trainset_y)\n",
        "XGboostPredict = Xgboost.predict(xvalidset_tfidf_ngram )\n",
        "XAccuracy = accuracy_score(validset_y, XGboostPredict)\n",
        "print(XAccuracy)\n",
        "#\n",
        "# Xgboost.\n",
        "Xgboost = XGBClassifier()\n",
        "XGboostTest = Xgboost.fit(xtrainset_tfidf_ngram_chars, trainset_y)\n",
        "XGboostPredict = Xgboost.predict(xvalidset_tfidf_ngram_chars)\n",
        "XAccuracy = accuracy_score(validset_y, XGboostPredict)\n",
        "print(XAccuracy)"
      ],
      "execution_count": 87,
      "outputs": [
        {
          "output_type": "stream",
          "text": [
            "0.5419986023759609\n",
            "0.5266247379454927\n",
            "0.5509433962264151\n"
          ],
          "name": "stdout"
        }
      ]
    },
    {
      "cell_type": "markdown",
      "metadata": {
        "id": "4BYCrgOMWZmG",
        "colab_type": "text"
      },
      "source": [
        "Making the neural net ready for processing "
      ]
    },
    {
      "cell_type": "code",
      "metadata": {
        "id": "wSX1fuvqWYcH",
        "colab_type": "code",
        "colab": {}
      },
      "source": [
        "def train_model(classifier, feature_vector_train, label, feature_vector_valid, is_neural_net=False):\n",
        "    #fit the training dataset on the classifier\n",
        "    classifier.fit(feature_vector_train, label)\n",
        "    \n",
        "   # predict the labels on validation dataset\n",
        "    predictions = classifier.predict(feature_vector_valid)\n",
        "    \n",
        "    if is_neural_net:\n",
        "        predictions = predictions.argmax(axis=-1)\n",
        "    \n",
        "    return metrics.accuracy_score(predictions, validset_y)"
      ],
      "execution_count": null,
      "outputs": []
    },
    {
      "cell_type": "code",
      "metadata": {
        "id": "eVUE2BUcxXID",
        "colab_type": "code",
        "colab": {}
      },
      "source": [
        "def create_rnn_lstm():\n",
        "    # Add an Input Layer\n",
        "    input_layer = layers.Input((2000, ))\n",
        "\n",
        "    # Add the word embedding Layer\n",
        "    embedding_layer = layers.Embedding(len(word_index) + 1, 300, weights=[embedding_matrix], trainable=False)(input_layer)\n",
        "    embedding_layer = layers.SpatialDropout1D(0.3)(embedding_layer)\n",
        "\n",
        "    # Add the LSTM Layer\n",
        "    lstm_layer = layers.LSTM(100)(embedding_layer)\n",
        "\n",
        "    # Add the output Layers\n",
        "    output_layer1 = layers.Dense(50, activation=\"relu\")(lstm_layer)\n",
        "    output_layer1 = layers.Dropout(0.25)(output_layer1)\n",
        "    output_layer2 = layers.Dense(1, activation=\"sigmoid\")(output_layer1)\n",
        "\n",
        "    # Compile the model\n",
        "    model = models.Model(inputs=input_layer, outputs=output_layer2)\n",
        "    model.compile(optimizer=optimizers.Adam(), loss='binary_crossentropy')\n",
        "    \n",
        "    return model\n"
      ],
      "execution_count": 88,
      "outputs": []
    },
    {
      "cell_type": "code",
      "metadata": {
        "id": "p0zC2JIixawB",
        "colab_type": "code",
        "colab": {
          "base_uri": "https://localhost:8080/",
          "height": 349
        },
        "outputId": "3d12791f-84c2-4977-b648-9bf5f3a9c163"
      },
      "source": [
        "classifier = create_rnn_lstm()\n",
        "accuracy = train_model(classifier, xtrainset_tfidf_ngram, trainset_y, xvalidset_tfidf_ngram, is_neural_net=True)\n",
        "print (\"RNN-LSTM, Word Embeddings\",  accuracy)\n",
        "\n",
        "\n",
        "\n",
        "\n"
      ],
      "execution_count": 135,
      "outputs": [
        {
          "output_type": "stream",
          "text": [
            "Epoch 1/1\n",
            "21464/21464 [==============================] - 1916s 89ms/step - loss: 0.6927\n"
          ],
          "name": "stdout"
        },
        {
          "output_type": "stream",
          "text": [
            "No handles with labels found to put in legend.\n"
          ],
          "name": "stderr"
        },
        {
          "output_type": "stream",
          "text": [
            "RNN-LSTM, Word Embeddings 0.5322152341020265\n"
          ],
          "name": "stdout"
        },
        {
          "output_type": "display_data",
          "data": {
            "image/png": "[encoded data removed]",
            "text/plain": [
              "<Figure size 432x288 with 1 Axes>"
            ]
          },
          "metadata": {
            "tags": []
          }
        }
      ]
    },
    {
      "cell_type": "code",
      "metadata": {
        "id": "EFhXN8bixcjO",
        "colab_type": "code",
        "colab": {
          "base_uri": "https://localhost:8080/",
          "height": 51
        },
        "outputId": "b07b593a-34b8-4216-e1f6-1d5cd626f171"
      },
      "source": [
        "#Confusion Matrix\n",
        "ConfusionMatrix_Logistc = confusion_matrix(validset_y,LogitRegression)\n",
        "ConfusionMatrix_Logistc"
      ],
      "execution_count": 138,
      "outputs": [
        {
          "output_type": "execute_result",
          "data": {
            "text/plain": [
              "array([[3754,   54],\n",
              "       [3249,   98]])"
            ]
          },
          "metadata": {
            "tags": []
          },
          "execution_count": 138
        }
      ]
    },
    {
      "cell_type": "code",
      "metadata": {
        "id": "vV8oI4VJxc1Y",
        "colab_type": "code",
        "colab": {
          "base_uri": "https://localhost:8080/",
          "height": 298
        },
        "outputId": "e1e5971d-4fc5-43d1-f363-f07907aefeef"
      },
      "source": [
        "#ROC\n",
        "falsePositiveRateLogistic, truePositiveRateLogistic, Thresholds_ROC_Logistic = metrics.roc_curve(validset_y,LogitRegression)\n",
        "plt.plot(falsePositiveRateLogistic,truePositiveRateLogistic)\n",
        "plt.legend(loc=4)\n",
        "plt.title(\"ROC Curve\")\n",
        "plt.show()"
      ],
      "execution_count": 143,
      "outputs": [
        {
          "output_type": "stream",
          "text": [
            "No handles with labels found to put in legend.\n"
          ],
          "name": "stderr"
        },
        {
          "output_type": "display_data",
          "data": {
            "image/png": "[encoded data removed]",
            "text/plain": [
              "<Figure size 432x288 with 1 Axes>"
            ]
          },
          "metadata": {
            "tags": []
          }
        }
      ]
    },
    {
      "cell_type": "code",
      "metadata": {
        "id": "TD3ma0vsW-Np",
        "colab_type": "code",
        "colab": {
          "base_uri": "https://localhost:8080/",
          "height": 34
        },
        "outputId": "f8ea50a6-e69a-499c-af43-a7d3e286542a"
      },
      "source": [
        "# AUC\n",
        "AUC_Logistic_News = metrics.roc_auc_score(validset_y,LogitRegression)\n",
        "AUC_Logistic_News"
      ],
      "execution_count": 139,
      "outputs": [
        {
          "output_type": "execute_result",
          "data": {
            "text/plain": [
              "0.5075496399635444"
            ]
          },
          "metadata": {
            "tags": []
          },
          "execution_count": 139
        }
      ]
    }
  ]
}